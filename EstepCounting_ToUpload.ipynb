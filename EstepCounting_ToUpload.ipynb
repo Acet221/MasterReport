{
 "cells": [
  {
   "cell_type": "markdown",
   "metadata": {},
   "source": [
    "This function is used in case a movement has been made, and both angle (P2200) and encoder (P2243) are prompted before/after. We are interested wether the numbers also change in a manner similiar Bresenham algorithm, following the principle \"less difference is best\", or if there are cases where the angle/encoder could have been few units more/less. The function will predict the goal's encoder value and angle, so we can compare it with real data. However, the interpretation needs to be done manually.\n",
    "In short, it answers the question \"If I want to go from this angle to that angle, what change in encoder should I expect?\"\n",
    "\n",
    "Note: do not confuse step variable with motor steps. The former is simply the difference in encoder unit. "
   ]
  },
  {
   "cell_type": "code",
   "execution_count": 6,
   "metadata": {},
   "outputs": [
    {
     "name": "stdout",
     "output_type": "stream",
     "text": [
      "start : 101\n",
      "Direction: Increasing\n",
      "1 101.087890625\n",
      "2 101.17578125\n",
      "3 101.263671875\n",
      "4 101.3515625\n",
      "\n",
      "Final number of steps:  216   Result:  119.984375\n",
      "N of steps -1:          215   Result:  119.896484375\n",
      "N of steps +1:          217   Result:  120.072265625\n",
      "Absolut Difference N:  0.015625\n",
      "Absolut Difference N-1:  0.103515625\n",
      "Absolut Difference N+1:  -0.072265625\n",
      "Best:  0.015625\n"
     ]
    }
   ],
   "source": [
    "def e_iteration(start,ziel): #both start and ziel(goal) arguments are angles in degree\n",
    "    e,i,current=(360/4096),1,start\n",
    "    print(\"start :\",start) #0th iteration =i-1\n",
    "    #In case of increasing\n",
    "    if start<ziel:\n",
    "        print(\"Direction: Increasing\")\n",
    "        while ziel-((i*e)+start) >= 0:\n",
    "            current=start+(i*e)\n",
    "            if i < 5:\n",
    "                print(i,current)\n",
    "            i = i+1\n",
    "        print(\"\\nFinal number of steps: \",i-1,\"  Result: \",current) #manually -1 because i is iterated once more after giving optimum result\n",
    "        print(\"N of steps -1:         \",i-2,\"  Result: \",current-e) #exceeds by 1\n",
    "        print(\"N of steps +1:         \",i,\"  Result: \",current+e) #exceeds by -1\n",
    "        print(\"Absolut Difference N: \",ziel-current)\n",
    "        print(\"Absolut Difference N-1: \",ziel-(current-e))\n",
    "        print(\"Absolut Difference N+1: \",ziel-(current+e))\n",
    "    #In case of decreasing\n",
    "    elif ziel<start:\n",
    "        print(\"Direction: Decreasing\")\n",
    "        while (start-(i*e))-ziel >= 0:\n",
    "            current=start-(i*e)\n",
    "            if i < 5:\n",
    "                print(i,current)\n",
    "            i = i+1\n",
    "        print(\"\\nFinal number of steps: \",i-1,\"  Result: \",current) #manually -1 because i is iterated once more after giving optimum result\n",
    "        print(\"N of steps -1:         \",i-2,\"  Result: \",current+e) #exceeds by 1\n",
    "        print(\"N of steps +1:         \",i,\"  Result: \",current-e) #exceeds by -1\n",
    "        #Abs.difference is more for testing purpose for myself\n",
    "        print(\"Absolut Difference N: \",ziel-current)\n",
    "        print(\"Absolut Difference N-1: \",ziel-(current+e))\n",
    "        print(\"Absolut Difference N+1: \",ziel-(current-e))\n",
    "    a=[abs(ziel-current),abs(ziel-(current+e)),abs(ziel-(current-e))]\n",
    "    print(\"Best: \",min(a))\n",
    "    \n",
    "e_iteration(101,120)"
   ]
  },
  {
   "cell_type": "code",
   "execution_count": null,
   "metadata": {},
   "outputs": [],
   "source": []
  }
 ],
 "metadata": {
  "kernelspec": {
   "display_name": "Python 3",
   "language": "python",
   "name": "python3"
  },
  "language_info": {
   "codemirror_mode": {
    "name": "ipython",
    "version": 3
   },
   "file_extension": ".py",
   "mimetype": "text/x-python",
   "name": "python",
   "nbconvert_exporter": "python",
   "pygments_lexer": "ipython3",
   "version": "3.7.3"
  }
 },
 "nbformat": 4,
 "nbformat_minor": 2
}
