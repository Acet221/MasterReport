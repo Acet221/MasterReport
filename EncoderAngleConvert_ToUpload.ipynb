{
 "cells": [
  {
   "cell_type": "markdown",
   "metadata": {},
   "source": [
    "#### There should be a flowchart, which illustrates what each part does, in the same folder\n",
    "Note: This whole script was meant to offer seperate suggestions of \"supposed to be\"-results while using calculations which I am completely familiar with. There is no standard way to interpret those results. By no mean can it be implemented into the firmware (which already has functions for similiar operations)."
   ]
  },
  {
   "cell_type": "code",
   "execution_count": 1,
   "metadata": {},
   "outputs": [],
   "source": [
    "#Preparation, must be run first\n",
    "import math\n",
    "import numpy as np"
   ]
  },
  {
   "cell_type": "markdown",
   "metadata": {},
   "source": [
    "## Part I\n",
    "### Change in encoder -> Change in Angle (degree)\n",
    "#### Variables which needs to be known before running this programm: (i) encoder value at calibration point (ii) angle (degree) at calibration point (iii) absolute change of encoder value after movement (can also be calculated by knowing the encoder value at goal)"
   ]
  },
  {
   "cell_type": "code",
   "execution_count": 2,
   "metadata": {},
   "outputs": [
    {
     "name": "stdout",
     "output_type": "stream",
     "text": [
      "Calibration: Encoder= B 2176   Angle= B 90\n",
      "Calibration: Encoder= L 3401   Angle= L 27.6\n",
      "Calibration: Encoder= R 2540   Angle= R 96.15\n",
      "Starting point: Encoder val(E1): B 2176   Angle(D1): B 90\n",
      "Starting point: Encoder val(E1): L 3374   Angle(D1): L 25.227\n",
      "Starting point: Encoder val(E1): R 2755   Angle(D1): R 115.0465\n",
      "Final Encoder (E1+step):  B 2176\n",
      "Final Encoder (E1+step):  L 3512\n",
      "Final Encoder (E1+step):  R 2486\n",
      "Predicted final angle (D2):  B 90.0\n",
      "Predicted final angle (D2):  L 37.355906250000004\n",
      "Predicted final angle (D2):  R 91.403921875\n",
      "D1-dependent: 90.0 tD2: 90.0 Sigma:  0.0\n",
      "D1-dependent: 37.355906250000004 tD2: 37.355859375 Sigma:  -4.687500000244427e-05\n",
      "D1-dependent: 91.403921875 tD2: 91.40390625 Sigma:  -1.5624999988972377e-05\n"
     ]
    }
   ],
   "source": [
    "def predict_D_from_E(Ec,Dc,dE,E1=None,D1=None): #last 2 args optional\n",
    "    estep=4096/360\n",
    "    dstep=360/4096\n",
    "    angle=[\"B\",\"L\",\"R\"]\n",
    "    caliplusx,caliplusy=[0,0,0],[0,0,0] #Pre-definition, to store values for the addtion later(otherwise error message)\n",
    "    \n",
    "    #Outputs the initial conditions just for overview\n",
    "    for i in range(3):\n",
    "        print(\"Calibration: Encoder=\",angle[i],Ec[i]%4096,\"  Angle=\",angle[i],Dc[i]%360)\n",
    "    \n",
    "    #Case 1: 3 args, there is no E1 (We assume that D1 will not exist either)   \n",
    "    # Ec----------E2(=caliplusx)\n",
    "    # |----dD------|\n",
    "    \n",
    "    # Dc----------D2\n",
    "    # | caliplusy |\n",
    "    if E1 == None:\n",
    "        print(\"Starting point (E1)=calibration(Ec)\")\n",
    "        #Calculation of E2 = Ec +step\n",
    "        for i in range(3):\n",
    "            caliplusx[i]=(Ec[i]%4096)+(dE[i]%4096) #=E2\n",
    "            print(\"Final Encoder (E2): \",angle[i],caliplusx[i]%4096)\n",
    "        #Turn Estep to Dstep and add Dstep on Dc\n",
    "        y=[0,0,0] #placeholder to avoid error message, means dE in deg\n",
    "        for i in range(3):\n",
    "            #y=[0,0,0] #Current_deg= manually fetches D1 from input! #DELETE\n",
    "            y[i]= (dE[i]*dstep)%360\n",
    "            caliplusy[i]=(Dc[i]+y[i])%360\n",
    "            print(\"Predicted final angle (D2): \",angle[i],caliplusy[i]%360)\n",
    "    \n",
    "\n",
    "    #Case 2: there are E1 and D1. While the firmware works slightly different, this method actually produces its result\n",
    "    #NOTE: in this case, argument dE = E2-E1, instead of E2-Ec!\n",
    "    #NOTE THAT THIS METHOD HEAVLY RELIES ON THE ACCURACY OF D1 WHICH YOU HAVE INPUTTED AS ARGUMEMT!\n",
    "\n",
    "    #Ec-----------E1----------E2\n",
    "    #             | caliplusx |\n",
    "\n",
    "    #Dc-----------D1----------D2\n",
    "    #             | caliplusy |\n",
    "    elif E1 != None:\n",
    "        for i in range(3):\n",
    "            print(\"Starting point: Encoder val(E1):\",angle[i],E1[i],\"  Angle(D1):\",angle[i],D1[i])\n",
    "        #Calculation of E2 = E1+(E1-2)\n",
    "        for i in range(3):\n",
    "            caliplusx[i]=(E1[i])+(dE[i]) #calipx is a misleading variable name, E2-E1 is meant\n",
    "            print(\"Final Encoder (E1+step): \",angle[i],caliplusx[i]%4096)\n",
    "        #Turn E2-E1 into D2-D1    \n",
    "        y=[0,0,0]\n",
    "        for i in range(3):\n",
    "            y[i]=dE[i]*dstep #y is absolute D step #This line isn't actually necessary LOL\n",
    "            caliplusy[i]=D1[i]+y[i] #calculate D2= D1 + (E2-E1 as Deg)\n",
    "            print(\"Predicted final angle (D2): \",angle[i],caliplusy[i]%360)\n",
    "        \n",
    "    #sigma-check: Difference between Method 1 and 2 (simply to see how much mess a wrong D1 can cause)\n",
    "    for i in range(3):\n",
    "        caliplusy[i] = caliplusy[i]%360 #Method 1 (D2-Dc)\n",
    "\n",
    "        E2=caliplusx[i] #Method 2\n",
    "        tD2= (((E2-Ec[i])*dstep)+Dc[i])%360 #tD2: theoretical D2, calculated from (E2-Ec)->dstep->(D2-Dc)\n",
    "        sigma = tD2-(caliplusy[i])\n",
    "        print(\"D1-dependent:\",caliplusy[i],\"tD2:\",tD2,\"Sigma: \",sigma)\n",
    "\n",
    "#Examples\n",
    "Ec=[2176,3401,2540] #encoder calibration (P2242)\n",
    "Dc=[90,27.6,96.15] #angle calibration (P2200)\n",
    "dE=[0,138,-269] #Changes (P2243)fin -(P2243)start\n",
    "E1=[2176,3374,2755] #E1\n",
    "D1=[90,25.2270,115.0465] #D1\n",
    "predict_D_from_E(Ec,Dc,dE,E1,D1) #E1,D1 optional"
   ]
  },
  {
   "cell_type": "markdown",
   "metadata": {},
   "source": [
    "## Part II\n",
    "#### Previous: Turn encoder unit into angles (degree)\n",
    "### Here, from 3 known angles, strech (S) and height(H) will be calculated (as mid-step) and then XYZ coordinates.\\n Note that the result heavlily depends on correct S-offset."
   ]
  },
  {
   "cell_type": "markdown",
   "metadata": {},
   "source": [
    "### However, the geometry was misunderstood when this function was written(see grey arrows in Fig.1C of the report). The angle at the joint between ARM_A and ARM_B(defined as alpha in the function) might be far more complicated. "
   ]
  },
  {
   "cell_type": "code",
   "execution_count": 11,
   "metadata": {},
   "outputs": [],
   "source": [
    "#Few size-related constants to define\n",
    "lA=142.07 #length ArmA\n",
    "lB=158.81 #length ArmB\n",
    "soff=13.2 #length center to origin\n",
    "\n",
    "soff2=5.3 #end effector\n",
    "zoff=107.4 #base of arm; z(coord)=h+zoff at the end\n",
    "#s2/z offset highly depends on model!!\n",
    "#s has 3 parts: soff+ the middle part used for calculating triangles + soff2 at end effector\n",
    "#when calculating X and Y, the \"whole\" s made from 3 parts are required\n",
    "\n",
    "#Add picture!\n",
    "#//               /\\          |          /              |            \\\n",
    "#//       ARM_A  /  \\  ARM_B  |    ARM_A/               |             \\ ARM_B\n",
    "#//           __/    \\        |        /_____  AngleA   |   angleB ____\\\n",
    "#//          | center         |                         |\n",
    "#//     origin"
   ]
  },
  {
   "cell_type": "code",
   "execution_count": 12,
   "metadata": {},
   "outputs": [
    {
     "name": "stdout",
     "output_type": "stream",
     "text": [
      "a: 56.25 \n",
      "hypo: 142.60013293234252 \n",
      "beta: 67.81746814049792 \n",
      "delta 55.93253185950209 \n",
      "\n",
      "Input Angles: [90, 27.6, 96.15]\n",
      "h(just z - zoff): -92.07555416098472 \n",
      "s: 127.38934859879238 \n",
      "X: 127.38934859879238 \n",
      "Y 0.0 \n",
      "Z: 15.324445839015283\n"
     ]
    }
   ],
   "source": [
    "def calc_SH_from_3angle(deglist): #also calculates XYZ\n",
    "    #A lot of angles are calculated as mid-step\n",
    "    alpha = 180-(deglist[1]+deglist[2])\n",
    "    hypo=math.sqrt((lA**2)+(lB**2)-((2*lA*lB)*math.cos(math.radians(alpha)))) #c^2=b^2+a^2-2ab*cos(y)\n",
    "    #we have LA,LB,hypo\n",
    "    #now, calculate beta and delta too for other purposes\n",
    "    beta= math.degrees(math.acos((-lB**2 + lA**2 + hypo**2)/(2 * lA * hypo)))#cos(ß)=b^2-a^2-c^2/-2ac\n",
    "    delta= math.degrees(math.acos((lA**2 - lB**2 - hypo**2)/(-2 * lB * hypo))) \n",
    "    print(\"a:\",alpha,\"\\nhypo:\",hypo,\"\\nbeta:\",beta,\"\\ndelta\",delta,\"\\n\")\n",
    "    print(\"Input Angles:\",deglist)\n",
    "    \n",
    "    s= lA*(math.cos(math.radians(deglist[1])))+lB*(math.cos(math.radians(deglist[2])))+soff+soff2 #whole S!\n",
    "    h= lA*(math.sin(math.radians(deglist[1]))) - lB*(math.sin(math.radians(deglist[2])))#apparently,h is just z\n",
    "    z=zoff+h #Z is good, don't touch!\n",
    "    x = (math.cos(math.radians(deglist[0]-90)))*(s)\n",
    "    y = (math.sin(math.radians(deglist[0]-90)))*(s)\n",
    "    \n",
    "    \n",
    "    print(\"h(just z - zoff):\",h,\"\\ns:\",s,\"\\nX:\",x,\"\\nY\",y,\"\\nZ:\",z)\n",
    "    #Normal case: end is higher #Correction: No cases. Thought the equation would change depending on arms position\n",
    "        \n",
    "#For example:\n",
    "caliplusy=[90,27.6,96.15] #angle B/L/R or C/A/B\n",
    "calc_SH_from_3angle(caliplusy)"
   ]
  },
  {
   "cell_type": "markdown",
   "metadata": {},
   "source": [
    "## Part III (Subpart and Mainpart)\n",
    "### Subpart of III: simple subtraction between starting XYZ coordinates and final XYZ coordinates, to calculate their differences and direction\n",
    "#### There is starting coord. (sc), finial coord.(fc), and difference in coord.(dc). With 2 of them, the third one can be calculated.\\nIn function for linear movement (G1), the goal is also first determined from simple coordinate addition.\n"
   ]
  },
  {
   "cell_type": "code",
   "execution_count": 14,
   "metadata": {},
   "outputs": [
    {
     "name": "stdout",
     "output_type": "stream",
     "text": [
      "start: [1, 1, 1] diff: [10, 20, -31] fin: [11, 21, -30]\n",
      "Absolute distance: 38.22302970723278\n",
      "Directions: ['+', '+', '-']\n"
     ]
    }
   ],
   "source": [
    "def coord_addition(sc=None,dc=None,fc=None): #only 2 required, third one =None #if loop quite unefficient\n",
    "    if fc == None: #s+d\n",
    "        fc=[sc[i]+dc[i] for i in range(len(sc))]\n",
    "    elif dc==None: #f-s\n",
    "        dc=[fc[i]-sc[i] for i in range(len(sc))]\n",
    "    elif sc==None: #f-d\n",
    "        dc=[fc[i]-dc[i] for i in range(len(sc))]   \n",
    "    print(\"start:\",sc,\"diff:\",dc,\"fin:\",fc)\n",
    "    #Additional check: Asolute distance\n",
    "    absd=math.sqrt((dc[0])**2+(dc[1])**2+(dc[2])**2)\n",
    "    print(\"Absolute distance:\",absd)\n",
    "    #Additional check: Direction\n",
    "    #It would be easier to just determine whether d is pos or neg, but I want to determine it through s and f\n",
    "    directions=[]\n",
    "    for i in range(3):\n",
    "        if sc[i]<fc[i]:\n",
    "            drctn=\"+\"\n",
    "        elif sc[i]>fc[i]:\n",
    "            drctn=\"-\"\n",
    "        else:\n",
    "            drctn=\"0\"\n",
    "        directions.append(drctn)\n",
    "    print(\"Directions:\",directions)\n",
    "#The function will return 3 lists of coordinates: start, difference and fin\n",
    "        \n",
    "#For example\n",
    "sc=[1,1,1]\n",
    "dc=[10,20,-31]\n",
    "fc=[1,0,-30] #NOTE: Fin is NOT s+d, for testing purpose\n",
    "coord_addition(sc,dc,None)"
   ]
  },
  {
   "cell_type": "markdown",
   "metadata": {},
   "source": [
    "### Main part of III\n",
    "### from initial and final coordinates (XYZ), calculate their corresponding angles (A/B/C)\n",
    "#### 2 inputs are required for this function: list of starting coord (ls) and list of difference (ld). If they are unknown, use Part III Subpart to calculate them"
   ]
  },
  {
   "cell_type": "code",
   "execution_count": 24,
   "metadata": {},
   "outputs": [
    {
     "name": "stdout",
     "output_type": "stream",
     "text": [
      "Initial stretch and heigh\n",
      "S: 50.0 \n",
      "H:  -47.400000000000006\n",
      "Method2, starting angles: \n",
      "B 126.86989764584402 L 39.989011276180136 R 119.14729827567689\n",
      "\n",
      "Predicted angle after dXYZ:\n",
      "Sf: 64.03124237432849 \n",
      "Hf:  -37.400000000000006\n",
      "Method2, final angles: \n",
      "B 128.65980825409008 L 55.963040125449865 R 102.35831182532692\n"
     ]
    }
   ],
   "source": [
    "#Already defined\n",
    "lA=142.07\n",
    "lB=158.81\n",
    "soff=13.2 #length center to origin\n",
    "soff2=5.3\n",
    "zoff=107.4 #sockel\n",
    "#s has 3 parts: soff+ the middle part used for calculating triangles + soff2 at end effector\n",
    "\n",
    "#Now we want (XYZ+dXYZ) to be calculated back to degrees\n",
    "def coord_addition_to_deg(ls,ld): #ls= list of XYZ start/fin, ld= list of XYZ difference, bc. s is strech here\n",
    "    #first, convert XYZ start to deg(also list)\n",
    "    s= (math.sqrt((ls[0]**2)+(ls[1]**2))) #full s\n",
    "    if ls[1]==0: #somehow, depending what you ask the firmware, Y0-position can be 0° or 90°\n",
    "        anglec=90\n",
    "    else:\n",
    "        anglec=math.degrees(math.atan(ls[0]/ls[1]))+90\n",
    "    h=ls[2]-zoff #h can be negative!!!\n",
    "    print(\"Initial stretch and heigh\\nS:\",s,\"\\nH: \",h)\n",
    "    \n",
    "    #Method 1: solve equation system for angleA,angleB by using lA,lB,s,and h\n",
    "    #Roughly:\n",
    "    #I)  s=(cos(A)*lA)+cos(B)*lB-s)\n",
    "    #II) h=(sin(A)*lA)-(sin(B)*lB)-h)\n",
    "    \n",
    "    #Sympy library (python) is used!!!!!\n",
    "    \n",
    "    #NOTE: Following function is muted through comment, due to the high capacity required to calculate\n",
    "    #NOTE: It was just an alternative to make sure that the other method is not completetly wrong\n",
    "     #from sympy import Symbol, solve, Eq\n",
    "        #from sympy import *\n",
    "        #import math\n",
    "        #Parameters, if possible, take from coord_addition_to_deg()\n",
    "        #lA= 142.07\n",
    "        #lB= 158.81\n",
    "        #h= 15.6788\n",
    "        #s= 174.1773\n",
    "    #def solve_for_AB():\n",
    "        #Apparently so sympy can work with variable as str?\n",
    "        #A = Symbol('A',real = True)\n",
    "        #B = Symbol('B',real = True)\n",
    "        #Trigonometric equation I) and II)\n",
    "        #e1= Eq((cos(A)*lA)+cos(B)*lB-s)\n",
    "        #e2= Eq((sin(A)*lA)-(sin(B)*lB)-h)\n",
    "        #print(solve([e1,e2],A,B)) #It will give 2 solution due to math reasons\n",
    "        #insert relut here\n",
    "        #a = math.degrees(0.0) \n",
    "        #b = math.degrees(0.0)\n",
    "        #print(a,b)\n",
    "        \n",
    "    #Method 1 was basically used to compare and vertify Method 2\n",
    "    \n",
    "    #Method 2: Hypotenuse of s and h (reversed tigonometry from Part 2)\n",
    "    gamma=math.degrees(math.atan(h/(s-soff-soff2))) #if h is negative, gamma will be negative too\n",
    "    hypo=math.sqrt(((s-soff-soff2)**2)+(h**2)) \n",
    "    a=((lB**2)+(lA**2)-(hypo**2))/(lA*lB*2)                 \n",
    "    alpha= math.degrees(math.acos(a)) #Rule of cosine, to find alpha\n",
    "    a=((hypo**2)+(lA**2)-(lB**2))/(lA*hypo*2)\n",
    "    beta=math.degrees(math.acos(a)) #Rule of cosine, to find beta\n",
    "    anglea=beta+gamma\n",
    "    angleb=180-anglea-alpha\n",
    "    print(\"Method2, starting angles:\",\"\\nB\",anglec,\"L\",anglea,\"R\",angleb)\n",
    "    \n",
    "    #Then, we predict the change in BLR after knowing the dXYZ as ld\n",
    "    lf=[ls[0]+ld[0],ls[1]+ld[1],ls[2]+ld[2]]\n",
    "    print(\"\\nPredicted angle after dXYZ:\")\n",
    "    s= (math.sqrt((lf[0]**2)+(lf[1]**2))) #Full s\n",
    "    if lf[1]==0: #somehow, depending what you ask the firmware, Y0-position can be 0° or 90°\n",
    "        anglec=90\n",
    "    else:\n",
    "        anglec=math.degrees(math.atan(lf[0]/lf[1]))+90\n",
    "    h=lf[2]-zoff\n",
    "    print(\"Sf:\",s,\"\\nHf: \",h)\n",
    "    \n",
    "    #Still Method 2\n",
    "    gamma=math.degrees(math.atan(h/(s-soff-soff2)))#if h is negative, gamma will be negative too\n",
    "    hypo=math.sqrt(((s-soff-soff2)**2)+(h**2))\n",
    "    a=((lB**2)+(lA**2)-(hypo**2))/(lA*lB*2)                 \n",
    "    alpha= math.degrees(math.acos(a)) #Rule of cosine, to find alpha\n",
    "    a=((hypo**2)+(lA**2)-(lB**2))/(lA*hypo*2)\n",
    "    beta=math.degrees(math.acos(a)) #Rule of cosine, to find beta\n",
    "    anglea=beta+gamma\n",
    "    angleb=180-anglea-alpha\n",
    "    print(\"Method2, final angles:\",\"\\nB\",anglec,\"L\",anglea,\"R\",angleb)\n",
    "\n",
    "\n",
    "#Example\n",
    "ls,ld=[30,40,60],[10,10,10] #ls= starting XYZ, ld= difference in XYZ\n",
    "coord_addition_to_deg(ls,ld)"
   ]
  },
  {
   "cell_type": "markdown",
   "metadata": {},
   "source": [
    "## Part IV\n",
    "### Same principle as Part I, but we calculate the expected encoder from angles"
   ]
  },
  {
   "cell_type": "code",
   "execution_count": 25,
   "metadata": {},
   "outputs": [
    {
     "name": "stdout",
     "output_type": "stream",
     "text": [
      "\n",
      "B)\n",
      "Final number of steps:  34   Result:  2.98828125\n",
      "Predicted Encoder(at N):  134\n",
      "N of steps -1:          33   Result:  2.900390625\n",
      "N of steps +1:          35   Result:  3.076171875\n",
      "\n",
      "L)\n",
      "Final number of steps:  34   Result:  -2.98828125\n",
      "Predicted Encoder(at N):  66\n",
      "N of steps -1:          33   Result:  -2.900390625\n",
      "N of steps +1:          35   Result:  -3.076171875\n",
      "\n",
      "R)\n",
      "Final number of steps:  1   Result:  2.087890625\n",
      "Predicted Encoder(at N):  101\n",
      "N of steps -1:          0   Result:  2.0\n",
      "N of steps +1:          2   Result:  2.17578125\n"
     ]
    }
   ],
   "source": [
    "#Come back to encoder\n",
    "#Often, it will be a different value than encoder from P2243, as P2243 directly checks encoder, \n",
    "#while this calculates the encoder from goal coordinates\n",
    "def DtoE(ec,dc,d2): #input: d2 list, ecali list, dcali list\n",
    "    ang=[\"B\",\"L\",\"R\"]\n",
    "    for i in range(3):\n",
    "        fin=d2[i]#Otherwise error: float object is not subscriptable\n",
    "        sta,current=dc[i],dc[i]\n",
    "        n=1\n",
    "        e=360/4096\n",
    "        print(\"\\n{0})\".format(ang[i]))\n",
    "        if sta<fin: #increase\n",
    "            while fin-(sta+(n*e)) >= 0:\n",
    "                current=sta+(n*e)\n",
    "                #print(n,current)\n",
    "                n = n+1 #NOTE: nth iteration means it will stop AFTER d2 is reached, so n-1 is used instead of n\n",
    "            print(\"Final number of steps: \",n-1,\"  Result: \",sta+((n-1)*e))\n",
    "            print(\"Predicted Encoder(at N): \",ec[i]+n-1)\n",
    "            print(\"N of steps -1:         \",n-2,\"  Result: \",sta+((n-2)*e)) #one step less\n",
    "            print(\"N of steps +1:         \",n,\"  Result: \",sta+((n)*e)) #one step more\n",
    "        if sta>fin:\n",
    "            while fin-(sta-(n*e)) <= 0:\n",
    "                current=sta-(n*e)\n",
    "                #print(n,current)\n",
    "                n = n+1 #NOTE: Iteration will stop AFTER d2 is reached, so n-1 is used instead of n\n",
    "            print(\"Final number of steps: \",n-1,\"  Result: \",sta-((n-1)*e))\n",
    "            print(\"Predicted Encoder(at N): \",ec[i]-(n-1))#Is correct, dont doubt\n",
    "            print(\"N of steps -1:         \",n-2,\"  Result: \",sta-((n-2)*e)) #one step less\n",
    "            print(\"N of steps +1:         \",n,\"  Result: \",sta-((n)*e)) #one step more\n",
    "                \n",
    "ec=[100,100,100]\n",
    "dc=[0,0,2]\n",
    "d2=[3,-3,2.1]\n",
    "DtoE(ec,dc,d2)"
   ]
  },
  {
   "cell_type": "code",
   "execution_count": null,
   "metadata": {},
   "outputs": [],
   "source": []
  }
 ],
 "metadata": {
  "kernelspec": {
   "display_name": "Python 3",
   "language": "python",
   "name": "python3"
  },
  "language_info": {
   "codemirror_mode": {
    "name": "ipython",
    "version": 3
   },
   "file_extension": ".py",
   "mimetype": "text/x-python",
   "name": "python",
   "nbconvert_exporter": "python",
   "pygments_lexer": "ipython3",
   "version": "3.7.3"
  }
 },
 "nbformat": 4,
 "nbformat_minor": 2
}
